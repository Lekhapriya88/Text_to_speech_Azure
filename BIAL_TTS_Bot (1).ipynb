{
 "cells": [
  {
   "cell_type": "code",
   "execution_count": 1,
   "metadata": {},
   "outputs": [
    {
     "name": "stdout",
     "output_type": "stream",
     "text": [
      "Requirement already satisfied: azure-cognitiveservices-speech in /opt/anaconda3/envs/BIAL/lib/python3.11/site-packages (1.41.1)\n",
      "Note: you may need to restart the kernel to use updated packages.\n",
      "Requirement already satisfied: azure-ai-textanalytics in /opt/anaconda3/envs/BIAL/lib/python3.11/site-packages (5.3.0)\n",
      "Requirement already satisfied: azure-core<2.0.0,>=1.24.0 in /opt/anaconda3/envs/BIAL/lib/python3.11/site-packages (from azure-ai-textanalytics) (1.31.0)\n",
      "Requirement already satisfied: azure-common~=1.1 in /opt/anaconda3/envs/BIAL/lib/python3.11/site-packages (from azure-ai-textanalytics) (1.1.28)\n",
      "Requirement already satisfied: isodate<1.0.0,>=0.6.1 in /opt/anaconda3/envs/BIAL/lib/python3.11/site-packages (from azure-ai-textanalytics) (0.7.2)\n",
      "Requirement already satisfied: typing-extensions>=4.0.1 in /opt/anaconda3/envs/BIAL/lib/python3.11/site-packages (from azure-ai-textanalytics) (4.12.2)\n",
      "Requirement already satisfied: requests>=2.21.0 in /opt/anaconda3/envs/BIAL/lib/python3.11/site-packages (from azure-core<2.0.0,>=1.24.0->azure-ai-textanalytics) (2.32.3)\n",
      "Requirement already satisfied: six>=1.11.0 in /opt/anaconda3/envs/BIAL/lib/python3.11/site-packages (from azure-core<2.0.0,>=1.24.0->azure-ai-textanalytics) (1.16.0)\n",
      "Requirement already satisfied: charset-normalizer<4,>=2 in /opt/anaconda3/envs/BIAL/lib/python3.11/site-packages (from requests>=2.21.0->azure-core<2.0.0,>=1.24.0->azure-ai-textanalytics) (3.4.0)\n",
      "Requirement already satisfied: idna<4,>=2.5 in /opt/anaconda3/envs/BIAL/lib/python3.11/site-packages (from requests>=2.21.0->azure-core<2.0.0,>=1.24.0->azure-ai-textanalytics) (3.10)\n",
      "Requirement already satisfied: urllib3<3,>=1.21.1 in /opt/anaconda3/envs/BIAL/lib/python3.11/site-packages (from requests>=2.21.0->azure-core<2.0.0,>=1.24.0->azure-ai-textanalytics) (2.2.3)\n",
      "Requirement already satisfied: certifi>=2017.4.17 in /opt/anaconda3/envs/BIAL/lib/python3.11/site-packages (from requests>=2.21.0->azure-core<2.0.0,>=1.24.0->azure-ai-textanalytics) (2024.8.30)\n",
      "Note: you may need to restart the kernel to use updated packages.\n",
      "Requirement already satisfied: gradio in /opt/anaconda3/envs/BIAL/lib/python3.11/site-packages (5.3.0)\n",
      "Requirement already satisfied: aiofiles<24.0,>=22.0 in /opt/anaconda3/envs/BIAL/lib/python3.11/site-packages (from gradio) (23.2.1)\n",
      "Requirement already satisfied: anyio<5.0,>=3.0 in /opt/anaconda3/envs/BIAL/lib/python3.11/site-packages (from gradio) (4.6.2.post1)\n",
      "Requirement already satisfied: fastapi<1.0,>=0.115.2 in /opt/anaconda3/envs/BIAL/lib/python3.11/site-packages (from gradio) (0.115.2)\n",
      "Requirement already satisfied: ffmpy in /opt/anaconda3/envs/BIAL/lib/python3.11/site-packages (from gradio) (0.4.0)\n",
      "Requirement already satisfied: gradio-client==1.4.2 in /opt/anaconda3/envs/BIAL/lib/python3.11/site-packages (from gradio) (1.4.2)\n",
      "Requirement already satisfied: httpx>=0.24.1 in /opt/anaconda3/envs/BIAL/lib/python3.11/site-packages (from gradio) (0.27.2)\n",
      "Requirement already satisfied: huggingface-hub>=0.25.1 in /opt/anaconda3/envs/BIAL/lib/python3.11/site-packages (from gradio) (0.26.1)\n",
      "Requirement already satisfied: jinja2<4.0 in /opt/anaconda3/envs/BIAL/lib/python3.11/site-packages (from gradio) (3.1.4)\n",
      "Requirement already satisfied: markupsafe~=2.0 in /opt/anaconda3/envs/BIAL/lib/python3.11/site-packages (from gradio) (2.1.5)\n",
      "Requirement already satisfied: numpy<3.0,>=1.0 in /opt/anaconda3/envs/BIAL/lib/python3.11/site-packages (from gradio) (2.1.2)\n",
      "Requirement already satisfied: orjson~=3.0 in /opt/anaconda3/envs/BIAL/lib/python3.11/site-packages (from gradio) (3.10.9)\n",
      "Requirement already satisfied: packaging in /opt/anaconda3/envs/BIAL/lib/python3.11/site-packages (from gradio) (24.1)\n",
      "Requirement already satisfied: pandas<3.0,>=1.0 in /opt/anaconda3/envs/BIAL/lib/python3.11/site-packages (from gradio) (2.2.3)\n",
      "Requirement already satisfied: pillow<11.0,>=8.0 in /opt/anaconda3/envs/BIAL/lib/python3.11/site-packages (from gradio) (10.4.0)\n",
      "Requirement already satisfied: pydantic>=2.0 in /opt/anaconda3/envs/BIAL/lib/python3.11/site-packages (from gradio) (2.9.2)\n",
      "Requirement already satisfied: pydub in /opt/anaconda3/envs/BIAL/lib/python3.11/site-packages (from gradio) (0.25.1)\n",
      "Requirement already satisfied: python-multipart>=0.0.9 in /opt/anaconda3/envs/BIAL/lib/python3.11/site-packages (from gradio) (0.0.12)\n",
      "Requirement already satisfied: pyyaml<7.0,>=5.0 in /opt/anaconda3/envs/BIAL/lib/python3.11/site-packages (from gradio) (6.0.2)\n",
      "Requirement already satisfied: ruff>=0.2.2 in /opt/anaconda3/envs/BIAL/lib/python3.11/site-packages (from gradio) (0.7.0)\n",
      "Requirement already satisfied: semantic-version~=2.0 in /opt/anaconda3/envs/BIAL/lib/python3.11/site-packages (from gradio) (2.10.0)\n",
      "Requirement already satisfied: starlette<1.0,>=0.40.0 in /opt/anaconda3/envs/BIAL/lib/python3.11/site-packages (from gradio) (0.40.0)\n",
      "Requirement already satisfied: tomlkit==0.12.0 in /opt/anaconda3/envs/BIAL/lib/python3.11/site-packages (from gradio) (0.12.0)\n",
      "Requirement already satisfied: typer<1.0,>=0.12 in /opt/anaconda3/envs/BIAL/lib/python3.11/site-packages (from gradio) (0.12.5)\n",
      "Requirement already satisfied: typing-extensions~=4.0 in /opt/anaconda3/envs/BIAL/lib/python3.11/site-packages (from gradio) (4.12.2)\n",
      "Requirement already satisfied: uvicorn>=0.14.0 in /opt/anaconda3/envs/BIAL/lib/python3.11/site-packages (from gradio) (0.32.0)\n",
      "Requirement already satisfied: fsspec in /opt/anaconda3/envs/BIAL/lib/python3.11/site-packages (from gradio-client==1.4.2->gradio) (2024.10.0)\n",
      "Requirement already satisfied: websockets<13.0,>=10.0 in /opt/anaconda3/envs/BIAL/lib/python3.11/site-packages (from gradio-client==1.4.2->gradio) (12.0)\n",
      "Requirement already satisfied: idna>=2.8 in /opt/anaconda3/envs/BIAL/lib/python3.11/site-packages (from anyio<5.0,>=3.0->gradio) (3.10)\n",
      "Requirement already satisfied: sniffio>=1.1 in /opt/anaconda3/envs/BIAL/lib/python3.11/site-packages (from anyio<5.0,>=3.0->gradio) (1.3.1)\n",
      "Requirement already satisfied: certifi in /opt/anaconda3/envs/BIAL/lib/python3.11/site-packages (from httpx>=0.24.1->gradio) (2024.8.30)\n",
      "Requirement already satisfied: httpcore==1.* in /opt/anaconda3/envs/BIAL/lib/python3.11/site-packages (from httpx>=0.24.1->gradio) (1.0.6)\n",
      "Requirement already satisfied: h11<0.15,>=0.13 in /opt/anaconda3/envs/BIAL/lib/python3.11/site-packages (from httpcore==1.*->httpx>=0.24.1->gradio) (0.14.0)\n",
      "Requirement already satisfied: filelock in /opt/anaconda3/envs/BIAL/lib/python3.11/site-packages (from huggingface-hub>=0.25.1->gradio) (3.16.1)\n",
      "Requirement already satisfied: requests in /opt/anaconda3/envs/BIAL/lib/python3.11/site-packages (from huggingface-hub>=0.25.1->gradio) (2.32.3)\n",
      "Requirement already satisfied: tqdm>=4.42.1 in /opt/anaconda3/envs/BIAL/lib/python3.11/site-packages (from huggingface-hub>=0.25.1->gradio) (4.66.5)\n",
      "Requirement already satisfied: python-dateutil>=2.8.2 in /opt/anaconda3/envs/BIAL/lib/python3.11/site-packages (from pandas<3.0,>=1.0->gradio) (2.9.0)\n",
      "Requirement already satisfied: pytz>=2020.1 in /opt/anaconda3/envs/BIAL/lib/python3.11/site-packages (from pandas<3.0,>=1.0->gradio) (2024.2)\n",
      "Requirement already satisfied: tzdata>=2022.7 in /opt/anaconda3/envs/BIAL/lib/python3.11/site-packages (from pandas<3.0,>=1.0->gradio) (2024.2)\n",
      "Requirement already satisfied: annotated-types>=0.6.0 in /opt/anaconda3/envs/BIAL/lib/python3.11/site-packages (from pydantic>=2.0->gradio) (0.7.0)\n",
      "Requirement already satisfied: pydantic-core==2.23.4 in /opt/anaconda3/envs/BIAL/lib/python3.11/site-packages (from pydantic>=2.0->gradio) (2.23.4)\n",
      "Requirement already satisfied: click>=8.0.0 in /opt/anaconda3/envs/BIAL/lib/python3.11/site-packages (from typer<1.0,>=0.12->gradio) (8.1.7)\n",
      "Requirement already satisfied: shellingham>=1.3.0 in /opt/anaconda3/envs/BIAL/lib/python3.11/site-packages (from typer<1.0,>=0.12->gradio) (1.5.4)\n",
      "Requirement already satisfied: rich>=10.11.0 in /opt/anaconda3/envs/BIAL/lib/python3.11/site-packages (from typer<1.0,>=0.12->gradio) (13.9.2)\n",
      "Requirement already satisfied: six>=1.5 in /opt/anaconda3/envs/BIAL/lib/python3.11/site-packages (from python-dateutil>=2.8.2->pandas<3.0,>=1.0->gradio) (1.16.0)\n",
      "Requirement already satisfied: markdown-it-py>=2.2.0 in /opt/anaconda3/envs/BIAL/lib/python3.11/site-packages (from rich>=10.11.0->typer<1.0,>=0.12->gradio) (3.0.0)\n",
      "Requirement already satisfied: pygments<3.0.0,>=2.13.0 in /opt/anaconda3/envs/BIAL/lib/python3.11/site-packages (from rich>=10.11.0->typer<1.0,>=0.12->gradio) (2.18.0)\n",
      "Requirement already satisfied: charset-normalizer<4,>=2 in /opt/anaconda3/envs/BIAL/lib/python3.11/site-packages (from requests->huggingface-hub>=0.25.1->gradio) (3.4.0)\n",
      "Requirement already satisfied: urllib3<3,>=1.21.1 in /opt/anaconda3/envs/BIAL/lib/python3.11/site-packages (from requests->huggingface-hub>=0.25.1->gradio) (2.2.3)\n",
      "Requirement already satisfied: mdurl~=0.1 in /opt/anaconda3/envs/BIAL/lib/python3.11/site-packages (from markdown-it-py>=2.2.0->rich>=10.11.0->typer<1.0,>=0.12->gradio) (0.1.2)\n",
      "Note: you may need to restart the kernel to use updated packages.\n",
      "Requirement already satisfied: gTTS in /opt/anaconda3/envs/BIAL/lib/python3.11/site-packages (2.5.3)\n",
      "Requirement already satisfied: requests<3,>=2.27 in /opt/anaconda3/envs/BIAL/lib/python3.11/site-packages (from gTTS) (2.32.3)\n",
      "Requirement already satisfied: click<8.2,>=7.1 in /opt/anaconda3/envs/BIAL/lib/python3.11/site-packages (from gTTS) (8.1.7)\n",
      "Requirement already satisfied: charset-normalizer<4,>=2 in /opt/anaconda3/envs/BIAL/lib/python3.11/site-packages (from requests<3,>=2.27->gTTS) (3.4.0)\n",
      "Requirement already satisfied: idna<4,>=2.5 in /opt/anaconda3/envs/BIAL/lib/python3.11/site-packages (from requests<3,>=2.27->gTTS) (3.10)\n",
      "Requirement already satisfied: urllib3<3,>=1.21.1 in /opt/anaconda3/envs/BIAL/lib/python3.11/site-packages (from requests<3,>=2.27->gTTS) (2.2.3)\n",
      "Requirement already satisfied: certifi>=2017.4.17 in /opt/anaconda3/envs/BIAL/lib/python3.11/site-packages (from requests<3,>=2.27->gTTS) (2024.8.30)\n",
      "Note: you may need to restart the kernel to use updated packages.\n"
     ]
    }
   ],
   "source": [
    "%pip install azure-cognitiveservices-speech\n",
    "%pip install azure-ai-textanalytics\n",
    "# %pip install azure-core\n",
    "%pip install --upgrade gradio\n",
    "%pip install gTTS"
   ]
  },
  {
   "cell_type": "code",
   "execution_count": 2,
   "metadata": {},
   "outputs": [
    {
     "name": "stderr",
     "output_type": "stream",
     "text": [
      "/opt/anaconda3/envs/BIAL/lib/python3.11/site-packages/tqdm/auto.py:21: TqdmWarning: IProgress not found. Please update jupyter and ipywidgets. See https://ipywidgets.readthedocs.io/en/stable/user_install.html\n",
      "  from .autonotebook import tqdm as notebook_tqdm\n"
     ]
    }
   ],
   "source": [
    "import gradio as gr\n",
    "import azure.cognitiveservices.speech as speechsdk\n",
    "from azure.ai.textanalytics import TextAnalyticsClient\n",
    "from azure.core.credentials import AzureKeyCredential\n",
    "import re\n",
    "from gtts import gTTS\n",
    "\n",
    "import warnings\n",
    "warnings.filterwarnings(\"ignore\")"
   ]
  },
  {
   "cell_type": "code",
   "execution_count": 3,
   "metadata": {},
   "outputs": [],
   "source": [
    "azure_text_analysis_key = \"<Get the key from Azure>\"\n",
    "azure_speech_service_key = \"<Get the key from Azure>\""
   ]
  },
  {
   "cell_type": "code",
   "execution_count": 4,
   "metadata": {},
   "outputs": [],
   "source": [
    "# Method to expand and return abbrevations\n",
    "def expand_abbreviations(text):\n",
    "    # Dictionary of abbreviations and their expansions\n",
    "    abbreviations = {\n",
    "        \"INR\": \"Indian Rupees\",\n",
    "        \"USD\": \"US Dollars\",\n",
    "        \"ETA\": \"Estimated Time of Arrival\",\n",
    "        \"ETD\": \"Estimated Time of Departure\",\n",
    "        \"<DE>\": \"<lang xml:lang='de-DE'>\",\n",
    "        \"</DE>\": \"</lang\"\n",
    "    }\n",
    "\n",
    "    # Regex pattern for all keys in the dictionary\n",
    "    pattern = r'\\b(' + '|'.join(re.escape(key) for key in abbreviations.keys()) + r')\\b'\n",
    "    expanded_text = re.sub(pattern, lambda match: abbreviations[match.group(0)], text)\n",
    "\n",
    "    return expanded_text"
   ]
  },
  {
   "cell_type": "code",
   "execution_count": 5,
   "metadata": {},
   "outputs": [],
   "source": [
    "# SSML generating function based on various arguments, but primarily selection is on sentiment\n",
    "def generate_ssml_based_on_sentiment(sentiment, text, voice, style, styledegree, pitch, rate):\n",
    "    # Expand abbreviations in the text (assuming you have an expand_abbreviations function)\n",
    "    text = expand_abbreviations(text)\n",
    "\n",
    "    # Block showcasing handling of Dutch translation using multi-lingual voice agent\n",
    "    if \"<DE>\" in text:\n",
    "        voice = \"en-US-AvaMultilingualNeural\"\n",
    "        return f\"\"\"\n",
    "        <speak version=\"1.0\" xmlns=\"http://www.w3.org/2001/10/synthesis\" xmlns:mstts=\"https://www.w3.org/2001/mstts\" xml:lang=\"de-DE\">\n",
    "            <voice name=\"{voice}\">\n",
    "                <mstts:express-as style=\"{style}\" styledegree=\"{styledegree}\">\n",
    "                    <prosody pitch=\"{pitch}\" rate=\"{rate}\">\n",
    "                        {text}\n",
    "                    </prosody>\n",
    "                </mstts:express-as>\n",
    "            </voice>\n",
    "        </speak>\n",
    "        \"\"\"\n",
    "    \n",
    "    if sentiment == 'positive':\n",
    "        ssml = f\"\"\"\n",
    "        <speak version=\"1.0\" xmlns=\"http://www.w3.org/2001/10/synthesis\" xmlns:mstts=\"https://www.w3.org/2001/mstts\" xml:lang=\"en-IN\">\n",
    "            <voice name=\"{voice}\">\n",
    "                <mstts:express-as style=\"{style}\" styledegree=\"{styledegree}\">\n",
    "                    <prosody pitch=\"{pitch}\" rate=\"{rate}\">\n",
    "                        {text}\n",
    "                    </prosody>\n",
    "                </mstts:express-as>\n",
    "            </voice>\n",
    "        </speak>\n",
    "        \"\"\"\n",
    "    elif sentiment == 'neutral':\n",
    "        ssml = f\"\"\"\n",
    "        <speak version='1.0' xmlns='http://www.w3.org/2001/10/synthesis' xmlns:mstts=\"https://www.w3.org/2001/mstts\" xml:lang='en-IN'>\n",
    "            <voice name='{voice}'>\n",
    "                <prosody pitch=\"{pitch}\" rate=\"{rate}\">\n",
    "                    {text}\n",
    "                </prosody>\n",
    "            </voice>\n",
    "        </speak>\n",
    "        \"\"\"\n",
    "    else:  # negative sentiment\n",
    "        ssml = f\"\"\"\n",
    "        <speak version='1.0' xmlns='http://www.w3.org/2001/10/synthesis' xmlns:mstts=\"https://www.w3.org/2001/mstts\" xml:lang='en-IN'>\n",
    "            <voice name='{voice}'>\n",
    "                <mstts:express-as style=\"{style}\" styledegree=\"{styledegree}\"> \n",
    "                    <prosody pitch=\"{pitch}\" rate=\"{rate}\">\n",
    "                        {text}\n",
    "                    </prosody>\n",
    "                </mstts:express-as>\n",
    "            </voice>\n",
    "        </speak>\n",
    "        \"\"\"\n",
    "    return ssml"
   ]
  },
  {
   "cell_type": "code",
   "execution_count": 6,
   "metadata": {},
   "outputs": [],
   "source": [
    "# Azure Text Analytics setup\n",
    "def authenticate_client():\n",
    "    key = azure_text_analysis_key\n",
    "    endpoint = \"https://aknaraya-text-analysois.openai.azure.com/\"\n",
    "    ta_credential = AzureKeyCredential(key)\n",
    "    text_analytics_client = TextAnalyticsClient(endpoint=endpoint, credential=ta_credential)\n",
    "    return text_analytics_client\n",
    "\n",
    "def analyze_sentiment(client, text):\n",
    "    response = client.analyze_sentiment([text])[0]\n",
    "    return response.sentiment  # Returns 'positive', 'neutral', or 'negative'"
   ]
  },
  {
   "cell_type": "code",
   "execution_count": 7,
   "metadata": {},
   "outputs": [],
   "source": [
    "def synthesize_speech_based_on_sentiment(ssml):\n",
    "    # Azure Speech Config\n",
    "    speech_config = speechsdk.SpeechConfig(subscription=azure_speech_service_key, region=\"centralindia\")\n",
    "    \n",
    "    # Synthesizer using SSML\n",
    "    synthesizer = speechsdk.SpeechSynthesizer(speech_config=speech_config)\n",
    "    result = synthesizer.speak_ssml_async(ssml).get()\n",
    "\n",
    "    # Check synthesis result\n",
    "    if result.reason == speechsdk.ResultReason.SynthesizingAudioCompleted:\n",
    "        print(\"Speech synthesized successfully.\")\n",
    "    elif result.reason == speechsdk.ResultReason.Canceled:\n",
    "        cancellation_details = result.cancellation_details\n",
    "        print(f\"Speech synthesis canceled: {cancellation_details.reason}\")\n",
    "        if cancellation_details.reason == speechsdk.CancellationReason.Error:\n",
    "            print(f\"Error details: {cancellation_details.error_details}\")\n"
   ]
  },
  {
   "cell_type": "code",
   "execution_count": 8,
   "metadata": {},
   "outputs": [],
   "source": [
    "sentences_by_sentiment = [\n",
    "        \"<DE>Wir freuen uns auf die Zusammenarbeit mit Ihnen!</DE>\",\n",
    "        \"Welcome to the airport! I hope you’re having a great day. How can I assist you with your travel plans today?\",\n",
    "        \"If you’d like to do some last-minute shopping, there are duty-free stores available, and they accept payments in INR, USD, or via popular payment apps.\",\n",
    "        \"I’d like to inform you that your flight to Delhi, Indigo 6E 456, has been delayed by an hour. The new departure time is 8:45 PM on October 22nd. In the meantime, you might want to check out Haldiram’s near the food court.\",\n",
    "        \"I’m delighted to help you! If you follow me, I can guide you directly to Gate 21, which is just a short walk from here.\",\n",
    "        \"Thank you so much for your patience during this busy time; I genuinely appreciate your understanding.\",\n",
    "        \"Rest assured, you’re in capable hands, and we’ll do everything we can to ensure you catch your flight to New York on October 22nd at 3:15 PM without any issues!\",\n",
    "        \"I have some fantastic news! Your flight, Delta flight 123, is running on schedule, so feel free to enjoy the lounge until it's time to board.\",\n",
    "        \"The check-in process is quite straightforward, so if you follow the signs, you’ll find it easy to navigate through.\",\n",
    "        \"Your gate is conveniently located at the end of this terminal, just a short walk from here.\",\n",
    "        \"At this moment, we are operating under normal circumstances, and there are no major disruptions to report.\",\n",
    "        \"Currently, the estimated wait time for security clearance is approximately 15 minutes, so you should be fine.\",\n",
    "        \"Boarding for your flight will commence shortly, so please keep an ear out for any announcements regarding your flight.\",\n",
    "        \"I’m truly sorry to inform you that your flight has unfortunately been delayed until 4:30 PM on October 22nd due to unforeseen circumstances.\",\n",
    "        \"Regrettably, we cannot accommodate any additional baggage on that flight as we have reached our maximum capacity.\",\n",
    "        \"I completely understand your concern, but unfortunately, we are unable to make any exceptions to the ticket rules at this time.\",\n",
    "        \"I sincerely apologize for the extended wait; we are currently experiencing an unusually high volume of passengers today.\",\n",
    "        \"I regret to inform you that we do not have any record of your reservation under the name John Smith in our system, which is very concerning.\"\n",
    "]"
   ]
  },
  {
   "cell_type": "code",
   "execution_count": 9,
   "metadata": {},
   "outputs": [],
   "source": [
    "# Options for dropdown menus\n",
    "voices = ['en-IN-NeerjaNeural', 'en-IN-PrabhatNeural']  # Add other available voices\n",
    "styles = ['default', 'cheerful', 'empathetic', 'newscast']\n",
    "style_degrees = ['1', '0.01', '2']  # Assuming these degrees\n",
    "pitches = ['default', 'low', 'high']\n",
    "rates = ['default', 'slow', 'fast']"
   ]
  },
  {
   "cell_type": "code",
   "execution_count": 10,
   "metadata": {},
   "outputs": [],
   "source": [
    "client = authenticate_client()"
   ]
  },
  {
   "cell_type": "code",
   "execution_count": 11,
   "metadata": {},
   "outputs": [],
   "source": [
    "# Dropdown choices from the array\n",
    "dropdown_choices = [(f\"Sentence {i+1}: {sentence}\", sentence) for i, sentence in enumerate(sentences_by_sentiment)]\n",
    "\n",
    "# Process user choices, detect sentiment and process speech\n",
    "def process_input(selected_sentence, voice, style, style_degree, pitch, rate):\n",
    "    sentiment = analyze_sentiment(client, selected_sentence)  # Analyze sentiment of the selected sentence\n",
    "    ssml = generate_ssml_based_on_sentiment(sentiment, selected_sentence, voice, style, style_degree, pitch, rate)\n",
    "    response = synthesize_speech_based_on_sentiment(ssml)\n",
    "    return f\"Detected sentiment: {sentiment}.\"\n"
   ]
  },
  {
   "cell_type": "code",
   "execution_count": 13,
   "metadata": {},
   "outputs": [
    {
     "name": "stdout",
     "output_type": "stream",
     "text": [
      "* Running on local URL:  http://127.0.0.1:7860\n",
      "\n",
      "To create a public link, set `share=True` in `launch()`.\n"
     ]
    },
    {
     "data": {
      "text/html": [
       "<div><iframe src=\"http://127.0.0.1:7860/\" width=\"100%\" height=\"500\" allow=\"autoplay; camera; microphone; clipboard-read; clipboard-write;\" frameborder=\"0\" allowfullscreen></iframe></div>"
      ],
      "text/plain": [
       "<IPython.core.display.HTML object>"
      ]
     },
     "metadata": {},
     "output_type": "display_data"
    },
    {
     "data": {
      "text/plain": []
     },
     "execution_count": 13,
     "metadata": {},
     "output_type": "execute_result"
    },
    {
     "name": "stdout",
     "output_type": "stream",
     "text": [
      "Speech synthesized successfully.\n",
      "Info: on_underlying_io_bytes_received: Close frame received\n",
      "Info: on_underlying_io_bytes_received: closing underlying io.\n",
      "Info: on_underlying_io_close_complete: uws_state: 6.\n"
     ]
    }
   ],
   "source": [
    "# Gradio UI setup with improved layout and styling\n",
    "with gr.Blocks(css=\".header {text-align: center; font-size: 24px; margin: 10px;}\") as iface:\n",
    "    # Header\n",
    "    gr.Markdown(\"<h1 class='header'>SSML Text-to-Speech with Sentiment Analysis</h1>\")\n",
    "    \n",
    "    with gr.Row():  # Row layout for sidebar and output\n",
    "        # Sidebar for inputs\n",
    "        with gr.Column(scale=1):  # Smaller column for inputs\n",
    "            gr.Markdown(\"### Select Options\")  # Section header for inputs\n",
    "            voice_dropdown = gr.Dropdown(choices=voices, label=\"Select Voice\")  # Voice dropdown\n",
    "            style_dropdown = gr.Dropdown(choices=styles, label=\"Select Speech Style\")  # Speech style dropdown\n",
    "            style_degree_dropdown = gr.Dropdown(choices=style_degrees, label=\"Select Style Degree\")  # Style degree dropdown\n",
    "            pitch_dropdown = gr.Dropdown(choices=pitches, label=\"Select Pitch\")  # Pitch dropdown\n",
    "            rate_dropdown = gr.Dropdown(choices=rates, label=\"Select Rate\")  # Rate dropdown\n",
    "            submit_button = gr.Button(\"Generate Speech\", variant=\"primary\")  # Primary button to submit and generate speech\n",
    "        \n",
    "        # Main content/output section\n",
    "        with gr.Column(scale=2):  # Larger column for output\n",
    "            gr.Markdown(\"### Input Sentence\")  # Section header for user input\n",
    "            input_textbox = gr.Textbox(\n",
    "                label=\"User Input\", \n",
    "                placeholder=\"Type your sentence here...\", \n",
    "                lines=2  # Slightly larger for typing\n",
    "            )\n",
    "            gr.Markdown(\"### Generated Output\")  # Section header for output\n",
    "            output_text = gr.Textbox(\n",
    "                label=\"Output\", \n",
    "                placeholder=\"The synthesized speech output will appear here...\", \n",
    "                lines=5,\n",
    "                interactive=False  # Non-editable textbox\n",
    "            )\n",
    "\n",
    "    # Link the button to the function that processes the input\n",
    "    submit_button.click(\n",
    "        process_input, \n",
    "        inputs=[input_textbox, voice_dropdown, style_dropdown, style_degree_dropdown, pitch_dropdown, rate_dropdown], \n",
    "        outputs=output_text\n",
    "    )\n",
    "\n",
    "# Launch the Gradio interface\n",
    "iface.launch()"
   ]
  }
 ],
 "metadata": {
  "kernelspec": {
   "display_name": "BIAL",
   "language": "python",
   "name": "python3"
  },
  "language_info": {
   "codemirror_mode": {
    "name": "ipython",
    "version": 3
   },
   "file_extension": ".py",
   "mimetype": "text/x-python",
   "name": "python",
   "nbconvert_exporter": "python",
   "pygments_lexer": "ipython3",
   "version": "3.11.10"
  }
 },
 "nbformat": 4,
 "nbformat_minor": 2
}
